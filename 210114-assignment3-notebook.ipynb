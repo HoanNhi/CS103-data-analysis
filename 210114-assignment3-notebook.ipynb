{
 "cells": [
  {
   "cell_type": "markdown",
   "metadata": {},
   "source": [
    "Author: Trần Nguyễn Hoàn Nhi\n",
    "Assignment 3 - Linear Regression"
   ]
  },
  {
   "cell_type": "code",
   "execution_count": 474,
   "metadata": {
    "id": "apE0gGK003H2"
   },
   "outputs": [],
   "source": [
    "#Importing necessary library\n",
    "import numpy as np\n",
    "import pandas as pd\n",
    "from sklearn.linear_model import LinearRegression\n",
    "from sklearn.model_selection import train_test_split\n",
    "import matplotlib.pyplot as plt\n",
    "import seaborn as sns"
   ]
  },
  {
   "cell_type": "markdown",
   "metadata": {
    "id": "SrVx-zkD4HUj"
   },
   "source": [
    "This is a dataset about loan amount for which a customer can request a bank with his/her collateral house.\n",
    "\n",
    "* Gender: Gender of customer requesting for a loan ('F' or 'M').\n",
    "* Age: Age of customer requesting for a loan (non-negative values).\n",
    "* Income (USD): Income of customer requesting for a loan (non-negative values).\n",
    "* Income Stability: Income stability of customer requesting for a loan (\"Low\" or \"High\").\n",
    "* Property Age: Age of the property (non-negative number of days).\n",
    "* Property Location: Location of the property (\"Rural\", \"Urban\", and \"Semi-Urban\").\n",
    "* Property Price: Price of the property (USD).\n",
    "* Loan Sanction Amount (USD): Ammount of loan the customer can requst for (USD, target value)."
   ]
  },
  {
   "cell_type": "code",
   "execution_count": 475,
   "metadata": {
    "colab": {
     "base_uri": "https://localhost:8080/",
     "height": 337
    },
    "executionInfo": {
     "elapsed": 569,
     "status": "ok",
     "timestamp": 1654249905194,
     "user": {
      "displayName": "Sơn Huỳnh Thanh",
      "userId": "12358216226509522886"
     },
     "user_tz": -420
    },
    "id": "fjJKhhIk-h4F",
    "outputId": "6bcaf199-cb75-4aa7-db35-b0ec3cf84c52"
   },
   "outputs": [
    {
     "data": {
      "text/html": [
       "<div>\n",
       "<style scoped>\n",
       "    .dataframe tbody tr th:only-of-type {\n",
       "        vertical-align: middle;\n",
       "    }\n",
       "\n",
       "    .dataframe tbody tr th {\n",
       "        vertical-align: top;\n",
       "    }\n",
       "\n",
       "    .dataframe thead th {\n",
       "        text-align: right;\n",
       "    }\n",
       "</style>\n",
       "<table border=\"1\" class=\"dataframe\">\n",
       "  <thead>\n",
       "    <tr style=\"text-align: right;\">\n",
       "      <th></th>\n",
       "      <th>Gender</th>\n",
       "      <th>Age</th>\n",
       "      <th>Income (USD)</th>\n",
       "      <th>Income Stability</th>\n",
       "      <th>Property Age</th>\n",
       "      <th>Property Location</th>\n",
       "      <th>Property Price</th>\n",
       "      <th>Loan Sanction Amount (USD)</th>\n",
       "    </tr>\n",
       "  </thead>\n",
       "  <tbody>\n",
       "    <tr>\n",
       "      <th>0</th>\n",
       "      <td>F</td>\n",
       "      <td>19</td>\n",
       "      <td>1641.250000</td>\n",
       "      <td>Low</td>\n",
       "      <td>1651.250000</td>\n",
       "      <td>Rural</td>\n",
       "      <td>59641.820000</td>\n",
       "      <td>21026.420753</td>\n",
       "    </tr>\n",
       "    <tr>\n",
       "      <th>1</th>\n",
       "      <td>M</td>\n",
       "      <td>29</td>\n",
       "      <td>1989.710000</td>\n",
       "      <td>Low</td>\n",
       "      <td>1990.710000</td>\n",
       "      <td>Urban</td>\n",
       "      <td>179858.510000</td>\n",
       "      <td>60595.183366</td>\n",
       "    </tr>\n",
       "    <tr>\n",
       "      <th>2</th>\n",
       "      <td>F</td>\n",
       "      <td>37</td>\n",
       "      <td>1849.910000</td>\n",
       "      <td>Low</td>\n",
       "      <td>1856.910000</td>\n",
       "      <td>Rural</td>\n",
       "      <td>117297.620000</td>\n",
       "      <td>39181.648002</td>\n",
       "    </tr>\n",
       "    <tr>\n",
       "      <th>3</th>\n",
       "      <td>M</td>\n",
       "      <td>65</td>\n",
       "      <td>2735.180000</td>\n",
       "      <td>High</td>\n",
       "      <td>2747.180000</td>\n",
       "      <td>Rural</td>\n",
       "      <td>354417.720000</td>\n",
       "      <td>128497.710865</td>\n",
       "    </tr>\n",
       "    <tr>\n",
       "      <th>4</th>\n",
       "      <td>F</td>\n",
       "      <td>62</td>\n",
       "      <td>4741.780000</td>\n",
       "      <td>High</td>\n",
       "      <td>4740.780000</td>\n",
       "      <td>Urban</td>\n",
       "      <td>82049.800000</td>\n",
       "      <td>39386.919336</td>\n",
       "    </tr>\n",
       "  </tbody>\n",
       "</table>\n",
       "</div>"
      ],
      "text/plain": [
       "  Gender  Age  Income (USD) Income Stability  Property Age Property Location  \\\n",
       "0      F   19   1641.250000              Low   1651.250000             Rural   \n",
       "1      M   29   1989.710000              Low   1990.710000             Urban   \n",
       "2      F   37   1849.910000              Low   1856.910000             Rural   \n",
       "3      M   65   2735.180000             High   2747.180000             Rural   \n",
       "4      F   62   4741.780000             High   4740.780000             Urban   \n",
       "\n",
       "   Property Price  Loan Sanction Amount (USD)  \n",
       "0    59641.820000                21026.420753  \n",
       "1   179858.510000                60595.183366  \n",
       "2   117297.620000                39181.648002  \n",
       "3   354417.720000               128497.710865  \n",
       "4    82049.800000                39386.919336  "
      ]
     },
     "execution_count": 475,
     "metadata": {},
     "output_type": "execute_result"
    }
   ],
   "source": [
    "# Load and display data\n",
    "data = pd.read_csv(\"house_loan_updated.csv\")\n",
    "data.head()"
   ]
  },
  {
   "cell_type": "code",
   "execution_count": 476,
   "metadata": {},
   "outputs": [],
   "source": [
    "pd.set_option('float_format', '{:f}'.format)"
   ]
  },
  {
   "cell_type": "code",
   "execution_count": 477,
   "metadata": {},
   "outputs": [
    {
     "name": "stdout",
     "output_type": "stream",
     "text": [
      "<class 'pandas.core.frame.DataFrame'>\n",
      "RangeIndex: 47297 entries, 0 to 47296\n",
      "Data columns (total 8 columns):\n",
      " #   Column                      Non-Null Count  Dtype  \n",
      "---  ------                      --------------  -----  \n",
      " 0   Gender                      47297 non-null  object \n",
      " 1   Age                         47297 non-null  int64  \n",
      " 2   Income (USD)                47265 non-null  float64\n",
      " 3   Income Stability            47285 non-null  object \n",
      " 4   Property Age                47263 non-null  float64\n",
      " 5   Property Location           47294 non-null  object \n",
      " 6   Property Price              47297 non-null  float64\n",
      " 7   Loan Sanction Amount (USD)  47297 non-null  float64\n",
      "dtypes: float64(4), int64(1), object(3)\n",
      "memory usage: 2.9+ MB\n"
     ]
    }
   ],
   "source": [
    "#Showing total number of samples, total number of non-nan values.\n",
    "#Drop nan-values categorical variable\n",
    "data.info()"
   ]
  },
  {
   "cell_type": "code",
   "execution_count": 478,
   "metadata": {},
   "outputs": [
    {
     "name": "stdout",
     "output_type": "stream",
     "text": [
      "<class 'pandas.core.frame.DataFrame'>\n",
      "Int64Index: 47282 entries, 0 to 47296\n",
      "Data columns (total 8 columns):\n",
      " #   Column                      Non-Null Count  Dtype  \n",
      "---  ------                      --------------  -----  \n",
      " 0   Gender                      47282 non-null  object \n",
      " 1   Age                         47282 non-null  int64  \n",
      " 2   Income (USD)                47253 non-null  float64\n",
      " 3   Income Stability            47282 non-null  object \n",
      " 4   Property Age                47251 non-null  float64\n",
      " 5   Property Location           47282 non-null  object \n",
      " 6   Property Price              47282 non-null  float64\n",
      " 7   Loan Sanction Amount (USD)  47282 non-null  float64\n",
      "dtypes: float64(4), int64(1), object(3)\n",
      "memory usage: 3.2+ MB\n"
     ]
    }
   ],
   "source": [
    "#Dropping Nan values for categorical values\n",
    "data.dropna(subset=['Income Stability', 'Property Location'], inplace=True)\n",
    "data.info()"
   ]
  },
  {
   "cell_type": "code",
   "execution_count": 479,
   "metadata": {},
   "outputs": [
    {
     "name": "stdout",
     "output_type": "stream",
     "text": [
      "0\n"
     ]
    }
   ],
   "source": [
    "#Checking if there is any duplicate\n",
    "print(data.duplicated().sum())\n",
    "#No duplicates, sounds good!"
   ]
  },
  {
   "cell_type": "code",
   "execution_count": 480,
   "metadata": {},
   "outputs": [
    {
     "name": "stdout",
     "output_type": "stream",
     "text": [
      "['F' 'M']\n",
      "['High' 'Low']\n"
     ]
    }
   ],
   "source": [
    "#Converting categorical values to numerical value, using two method\n",
    "#For categorical variable which only has two values, the method to be used is Label Encoder.\n",
    "#For categorical variable which has more than two values, the method should be get_dummies()\n",
    "from sklearn.preprocessing import LabelEncoder\n",
    "label_encoder = LabelEncoder()\n",
    "cat_cols = [col for col in data.columns if data[col].dtypes == object]\n",
    "cat_cols.remove('Property Location')\n",
    "for col in cat_cols: \n",
    "    category_encoder = label_encoder.fit_transform(data[col])\n",
    "    print(label_encoder.classes_)                                       # Fit and transform values in 'Gender' and 'Income Stability'\n",
    "    data.loc[:, col] = category_encoder                                 # Assign encoded values to replace the original values"
   ]
  },
  {
   "cell_type": "code",
   "execution_count": 481,
   "metadata": {},
   "outputs": [
    {
     "data": {
      "text/html": [
       "<div>\n",
       "<style scoped>\n",
       "    .dataframe tbody tr th:only-of-type {\n",
       "        vertical-align: middle;\n",
       "    }\n",
       "\n",
       "    .dataframe tbody tr th {\n",
       "        vertical-align: top;\n",
       "    }\n",
       "\n",
       "    .dataframe thead th {\n",
       "        text-align: right;\n",
       "    }\n",
       "</style>\n",
       "<table border=\"1\" class=\"dataframe\">\n",
       "  <thead>\n",
       "    <tr style=\"text-align: right;\">\n",
       "      <th></th>\n",
       "      <th>Gender</th>\n",
       "      <th>Age</th>\n",
       "      <th>Income (USD)</th>\n",
       "      <th>Income Stability</th>\n",
       "      <th>Property Age</th>\n",
       "      <th>Property Location</th>\n",
       "      <th>Property Price</th>\n",
       "      <th>Loan Sanction Amount (USD)</th>\n",
       "    </tr>\n",
       "  </thead>\n",
       "  <tbody>\n",
       "    <tr>\n",
       "      <th>0</th>\n",
       "      <td>0</td>\n",
       "      <td>19</td>\n",
       "      <td>1641.250000</td>\n",
       "      <td>1</td>\n",
       "      <td>1651.250000</td>\n",
       "      <td>Rural</td>\n",
       "      <td>59641.820000</td>\n",
       "      <td>21026.420753</td>\n",
       "    </tr>\n",
       "    <tr>\n",
       "      <th>1</th>\n",
       "      <td>1</td>\n",
       "      <td>29</td>\n",
       "      <td>1989.710000</td>\n",
       "      <td>1</td>\n",
       "      <td>1990.710000</td>\n",
       "      <td>Urban</td>\n",
       "      <td>179858.510000</td>\n",
       "      <td>60595.183366</td>\n",
       "    </tr>\n",
       "    <tr>\n",
       "      <th>2</th>\n",
       "      <td>0</td>\n",
       "      <td>37</td>\n",
       "      <td>1849.910000</td>\n",
       "      <td>1</td>\n",
       "      <td>1856.910000</td>\n",
       "      <td>Rural</td>\n",
       "      <td>117297.620000</td>\n",
       "      <td>39181.648002</td>\n",
       "    </tr>\n",
       "    <tr>\n",
       "      <th>3</th>\n",
       "      <td>1</td>\n",
       "      <td>65</td>\n",
       "      <td>2735.180000</td>\n",
       "      <td>0</td>\n",
       "      <td>2747.180000</td>\n",
       "      <td>Rural</td>\n",
       "      <td>354417.720000</td>\n",
       "      <td>128497.710865</td>\n",
       "    </tr>\n",
       "    <tr>\n",
       "      <th>4</th>\n",
       "      <td>0</td>\n",
       "      <td>62</td>\n",
       "      <td>4741.780000</td>\n",
       "      <td>0</td>\n",
       "      <td>4740.780000</td>\n",
       "      <td>Urban</td>\n",
       "      <td>82049.800000</td>\n",
       "      <td>39386.919336</td>\n",
       "    </tr>\n",
       "    <tr>\n",
       "      <th>...</th>\n",
       "      <td>...</td>\n",
       "      <td>...</td>\n",
       "      <td>...</td>\n",
       "      <td>...</td>\n",
       "      <td>...</td>\n",
       "      <td>...</td>\n",
       "      <td>...</td>\n",
       "      <td>...</td>\n",
       "    </tr>\n",
       "    <tr>\n",
       "      <th>47292</th>\n",
       "      <td>0</td>\n",
       "      <td>62</td>\n",
       "      <td>2121.480000</td>\n",
       "      <td>1</td>\n",
       "      <td>2135.480000</td>\n",
       "      <td>Rural</td>\n",
       "      <td>240291.630000</td>\n",
       "      <td>78800.491330</td>\n",
       "    </tr>\n",
       "    <tr>\n",
       "      <th>47293</th>\n",
       "      <td>1</td>\n",
       "      <td>38</td>\n",
       "      <td>1506.720000</td>\n",
       "      <td>1</td>\n",
       "      <td>1505.720000</td>\n",
       "      <td>Rural</td>\n",
       "      <td>218431.370000</td>\n",
       "      <td>72483.293359</td>\n",
       "    </tr>\n",
       "    <tr>\n",
       "      <th>47294</th>\n",
       "      <td>0</td>\n",
       "      <td>20</td>\n",
       "      <td>1595.100000</td>\n",
       "      <td>1</td>\n",
       "      <td>1582.100000</td>\n",
       "      <td>Semi-Urban</td>\n",
       "      <td>154458.880000</td>\n",
       "      <td>52462.861498</td>\n",
       "    </tr>\n",
       "    <tr>\n",
       "      <th>47295</th>\n",
       "      <td>0</td>\n",
       "      <td>50</td>\n",
       "      <td>2002.270000</td>\n",
       "      <td>1</td>\n",
       "      <td>2007.270000</td>\n",
       "      <td>Semi-Urban</td>\n",
       "      <td>72277.780000</td>\n",
       "      <td>22909.596763</td>\n",
       "    </tr>\n",
       "    <tr>\n",
       "      <th>47296</th>\n",
       "      <td>0</td>\n",
       "      <td>46</td>\n",
       "      <td>492.910000</td>\n",
       "      <td>1</td>\n",
       "      <td>497.910000</td>\n",
       "      <td>Rural</td>\n",
       "      <td>24597.610000</td>\n",
       "      <td>5941.989388</td>\n",
       "    </tr>\n",
       "  </tbody>\n",
       "</table>\n",
       "<p>47282 rows × 8 columns</p>\n",
       "</div>"
      ],
      "text/plain": [
       "       Gender  Age  Income (USD)  Income Stability  Property Age  \\\n",
       "0           0   19   1641.250000                 1   1651.250000   \n",
       "1           1   29   1989.710000                 1   1990.710000   \n",
       "2           0   37   1849.910000                 1   1856.910000   \n",
       "3           1   65   2735.180000                 0   2747.180000   \n",
       "4           0   62   4741.780000                 0   4740.780000   \n",
       "...       ...  ...           ...               ...           ...   \n",
       "47292       0   62   2121.480000                 1   2135.480000   \n",
       "47293       1   38   1506.720000                 1   1505.720000   \n",
       "47294       0   20   1595.100000                 1   1582.100000   \n",
       "47295       0   50   2002.270000                 1   2007.270000   \n",
       "47296       0   46    492.910000                 1    497.910000   \n",
       "\n",
       "      Property Location  Property Price  Loan Sanction Amount (USD)  \n",
       "0                 Rural    59641.820000                21026.420753  \n",
       "1                 Urban   179858.510000                60595.183366  \n",
       "2                 Rural   117297.620000                39181.648002  \n",
       "3                 Rural   354417.720000               128497.710865  \n",
       "4                 Urban    82049.800000                39386.919336  \n",
       "...                 ...             ...                         ...  \n",
       "47292             Rural   240291.630000                78800.491330  \n",
       "47293             Rural   218431.370000                72483.293359  \n",
       "47294        Semi-Urban   154458.880000                52462.861498  \n",
       "47295        Semi-Urban    72277.780000                22909.596763  \n",
       "47296             Rural    24597.610000                 5941.989388  \n",
       "\n",
       "[47282 rows x 8 columns]"
      ]
     },
     "execution_count": 481,
     "metadata": {},
     "output_type": "execute_result"
    }
   ],
   "source": [
    "data"
   ]
  },
  {
   "cell_type": "code",
   "execution_count": 482,
   "metadata": {},
   "outputs": [],
   "source": [
    "#For 'Property Location' which takes \"Urban\", \"Rual\" and \"Semi-urban\" as its values, the method will be get_dummies\n",
    "data=pd.get_dummies(data, columns = ['Property Location'])"
   ]
  },
  {
   "cell_type": "code",
   "execution_count": 483,
   "metadata": {},
   "outputs": [
    {
     "data": {
      "text/html": [
       "<div>\n",
       "<style scoped>\n",
       "    .dataframe tbody tr th:only-of-type {\n",
       "        vertical-align: middle;\n",
       "    }\n",
       "\n",
       "    .dataframe tbody tr th {\n",
       "        vertical-align: top;\n",
       "    }\n",
       "\n",
       "    .dataframe thead th {\n",
       "        text-align: right;\n",
       "    }\n",
       "</style>\n",
       "<table border=\"1\" class=\"dataframe\">\n",
       "  <thead>\n",
       "    <tr style=\"text-align: right;\">\n",
       "      <th></th>\n",
       "      <th>Gender</th>\n",
       "      <th>Age</th>\n",
       "      <th>Income (USD)</th>\n",
       "      <th>Income Stability</th>\n",
       "      <th>Property Age</th>\n",
       "      <th>Property Price</th>\n",
       "      <th>Property Location_Rural</th>\n",
       "      <th>Property Location_Semi-Urban</th>\n",
       "      <th>Property Location_Urban</th>\n",
       "      <th>Loan Sanction Amount (USD)</th>\n",
       "    </tr>\n",
       "  </thead>\n",
       "  <tbody>\n",
       "    <tr>\n",
       "      <th>0</th>\n",
       "      <td>0</td>\n",
       "      <td>19</td>\n",
       "      <td>1641.250000</td>\n",
       "      <td>1</td>\n",
       "      <td>1651.250000</td>\n",
       "      <td>59641.820000</td>\n",
       "      <td>1</td>\n",
       "      <td>0</td>\n",
       "      <td>0</td>\n",
       "      <td>21026.420753</td>\n",
       "    </tr>\n",
       "    <tr>\n",
       "      <th>1</th>\n",
       "      <td>1</td>\n",
       "      <td>29</td>\n",
       "      <td>1989.710000</td>\n",
       "      <td>1</td>\n",
       "      <td>1990.710000</td>\n",
       "      <td>179858.510000</td>\n",
       "      <td>0</td>\n",
       "      <td>0</td>\n",
       "      <td>1</td>\n",
       "      <td>60595.183366</td>\n",
       "    </tr>\n",
       "    <tr>\n",
       "      <th>2</th>\n",
       "      <td>0</td>\n",
       "      <td>37</td>\n",
       "      <td>1849.910000</td>\n",
       "      <td>1</td>\n",
       "      <td>1856.910000</td>\n",
       "      <td>117297.620000</td>\n",
       "      <td>1</td>\n",
       "      <td>0</td>\n",
       "      <td>0</td>\n",
       "      <td>39181.648002</td>\n",
       "    </tr>\n",
       "    <tr>\n",
       "      <th>3</th>\n",
       "      <td>1</td>\n",
       "      <td>65</td>\n",
       "      <td>2735.180000</td>\n",
       "      <td>0</td>\n",
       "      <td>2747.180000</td>\n",
       "      <td>354417.720000</td>\n",
       "      <td>1</td>\n",
       "      <td>0</td>\n",
       "      <td>0</td>\n",
       "      <td>128497.710865</td>\n",
       "    </tr>\n",
       "    <tr>\n",
       "      <th>4</th>\n",
       "      <td>0</td>\n",
       "      <td>62</td>\n",
       "      <td>4741.780000</td>\n",
       "      <td>0</td>\n",
       "      <td>4740.780000</td>\n",
       "      <td>82049.800000</td>\n",
       "      <td>0</td>\n",
       "      <td>0</td>\n",
       "      <td>1</td>\n",
       "      <td>39386.919336</td>\n",
       "    </tr>\n",
       "    <tr>\n",
       "      <th>...</th>\n",
       "      <td>...</td>\n",
       "      <td>...</td>\n",
       "      <td>...</td>\n",
       "      <td>...</td>\n",
       "      <td>...</td>\n",
       "      <td>...</td>\n",
       "      <td>...</td>\n",
       "      <td>...</td>\n",
       "      <td>...</td>\n",
       "      <td>...</td>\n",
       "    </tr>\n",
       "    <tr>\n",
       "      <th>47292</th>\n",
       "      <td>0</td>\n",
       "      <td>62</td>\n",
       "      <td>2121.480000</td>\n",
       "      <td>1</td>\n",
       "      <td>2135.480000</td>\n",
       "      <td>240291.630000</td>\n",
       "      <td>1</td>\n",
       "      <td>0</td>\n",
       "      <td>0</td>\n",
       "      <td>78800.491330</td>\n",
       "    </tr>\n",
       "    <tr>\n",
       "      <th>47293</th>\n",
       "      <td>1</td>\n",
       "      <td>38</td>\n",
       "      <td>1506.720000</td>\n",
       "      <td>1</td>\n",
       "      <td>1505.720000</td>\n",
       "      <td>218431.370000</td>\n",
       "      <td>1</td>\n",
       "      <td>0</td>\n",
       "      <td>0</td>\n",
       "      <td>72483.293359</td>\n",
       "    </tr>\n",
       "    <tr>\n",
       "      <th>47294</th>\n",
       "      <td>0</td>\n",
       "      <td>20</td>\n",
       "      <td>1595.100000</td>\n",
       "      <td>1</td>\n",
       "      <td>1582.100000</td>\n",
       "      <td>154458.880000</td>\n",
       "      <td>0</td>\n",
       "      <td>1</td>\n",
       "      <td>0</td>\n",
       "      <td>52462.861498</td>\n",
       "    </tr>\n",
       "    <tr>\n",
       "      <th>47295</th>\n",
       "      <td>0</td>\n",
       "      <td>50</td>\n",
       "      <td>2002.270000</td>\n",
       "      <td>1</td>\n",
       "      <td>2007.270000</td>\n",
       "      <td>72277.780000</td>\n",
       "      <td>0</td>\n",
       "      <td>1</td>\n",
       "      <td>0</td>\n",
       "      <td>22909.596763</td>\n",
       "    </tr>\n",
       "    <tr>\n",
       "      <th>47296</th>\n",
       "      <td>0</td>\n",
       "      <td>46</td>\n",
       "      <td>492.910000</td>\n",
       "      <td>1</td>\n",
       "      <td>497.910000</td>\n",
       "      <td>24597.610000</td>\n",
       "      <td>1</td>\n",
       "      <td>0</td>\n",
       "      <td>0</td>\n",
       "      <td>5941.989388</td>\n",
       "    </tr>\n",
       "  </tbody>\n",
       "</table>\n",
       "<p>47282 rows × 10 columns</p>\n",
       "</div>"
      ],
      "text/plain": [
       "       Gender  Age  Income (USD)  Income Stability  Property Age  \\\n",
       "0           0   19   1641.250000                 1   1651.250000   \n",
       "1           1   29   1989.710000                 1   1990.710000   \n",
       "2           0   37   1849.910000                 1   1856.910000   \n",
       "3           1   65   2735.180000                 0   2747.180000   \n",
       "4           0   62   4741.780000                 0   4740.780000   \n",
       "...       ...  ...           ...               ...           ...   \n",
       "47292       0   62   2121.480000                 1   2135.480000   \n",
       "47293       1   38   1506.720000                 1   1505.720000   \n",
       "47294       0   20   1595.100000                 1   1582.100000   \n",
       "47295       0   50   2002.270000                 1   2007.270000   \n",
       "47296       0   46    492.910000                 1    497.910000   \n",
       "\n",
       "       Property Price  Property Location_Rural  Property Location_Semi-Urban  \\\n",
       "0        59641.820000                        1                             0   \n",
       "1       179858.510000                        0                             0   \n",
       "2       117297.620000                        1                             0   \n",
       "3       354417.720000                        1                             0   \n",
       "4        82049.800000                        0                             0   \n",
       "...               ...                      ...                           ...   \n",
       "47292   240291.630000                        1                             0   \n",
       "47293   218431.370000                        1                             0   \n",
       "47294   154458.880000                        0                             1   \n",
       "47295    72277.780000                        0                             1   \n",
       "47296    24597.610000                        1                             0   \n",
       "\n",
       "       Property Location_Urban  Loan Sanction Amount (USD)  \n",
       "0                            0                21026.420753  \n",
       "1                            1                60595.183366  \n",
       "2                            0                39181.648002  \n",
       "3                            0               128497.710865  \n",
       "4                            1                39386.919336  \n",
       "...                        ...                         ...  \n",
       "47292                        0                78800.491330  \n",
       "47293                        0                72483.293359  \n",
       "47294                        0                52462.861498  \n",
       "47295                        0                22909.596763  \n",
       "47296                        0                 5941.989388  \n",
       "\n",
       "[47282 rows x 10 columns]"
      ]
     },
     "execution_count": 483,
     "metadata": {},
     "output_type": "execute_result"
    }
   ],
   "source": [
    "#Re-order the columns so that the last column should always be the label of the data\n",
    "data = data[['Gender', 'Age', 'Income (USD)', 'Income Stability', \"Property Age\", 'Property Price', 'Property Location_Rural', 'Property Location_Semi-Urban', 'Property Location_Urban', 'Loan Sanction Amount (USD)']]\n",
    "data"
   ]
  },
  {
   "cell_type": "code",
   "execution_count": 484,
   "metadata": {},
   "outputs": [
    {
     "data": {
      "text/plain": [
       "<AxesSubplot:>"
      ]
     },
     "execution_count": 484,
     "metadata": {},
     "output_type": "execute_result"
    },
    {
     "data": {
      "image/png": "[encoded data removed]",
      "text/plain": [
       "<Figure size 864x720 with 2 Axes>"
      ]
     },
     "metadata": {
      "needs_background": "light"
     },
     "output_type": "display_data"
    }
   ],
   "source": [
    "#Drawing correlation heatmap\n",
    "corr = data.corr()\n",
    "#\n",
    "# Set up the matplotlib size\n",
    "#\n",
    "f, ax = plt.subplots(figsize=(12, 10))\n",
    "#\n",
    "# Hide the upper-triangle values as they are the duplicates of the lower-triangle values\n",
    "#\n",
    "mask = np.triu(np.ones_like(corr, dtype=bool))\n",
    "#\n",
    "# Configure a custom diverging colormap\n",
    "#\n",
    "cmap = sns.diverging_palette(230, 20, as_cmap=True)\n",
    "#\n",
    "# Draw the heatmap\n",
    "#\n",
    "sns.heatmap(corr, annot=True, mask = mask, cmap=cmap)"
   ]
  },
  {
   "cell_type": "code",
   "execution_count": 485,
   "metadata": {},
   "outputs": [],
   "source": [
    "#The correlation between Property Age and Income (USD) is 1. Therefore, one column can be dropped for the simplicity. In this case, income (USD) may be more important, as it is unsual\n",
    "#for a property to be about 1000s age.\n",
    "data.drop('Property Age', inplace=True, axis=1)"
   ]
  },
  {
   "cell_type": "code",
   "execution_count": 486,
   "metadata": {},
   "outputs": [
    {
     "data": {
      "text/plain": [
       "array([[<AxesSubplot:title={'center':'Gender'}>,\n",
       "        <AxesSubplot:title={'center':'Age'}>,\n",
       "        <AxesSubplot:title={'center':'Income (USD)'}>],\n",
       "       [<AxesSubplot:title={'center':'Income Stability'}>,\n",
       "        <AxesSubplot:title={'center':'Property Price'}>,\n",
       "        <AxesSubplot:title={'center':'Property Location_Rural'}>],\n",
       "       [<AxesSubplot:title={'center':'Property Location_Semi-Urban'}>,\n",
       "        <AxesSubplot:title={'center':'Property Location_Urban'}>,\n",
       "        <AxesSubplot:title={'center':'Loan Sanction Amount (USD)'}>]],\n",
       "      dtype=object)"
      ]
     },
     "execution_count": 486,
     "metadata": {},
     "output_type": "execute_result"
    },
    {
     "data": {
      "image/png": "[encoded data removed]",
      "text/plain": [
       "<Figure size 1440x720 with 9 Axes>"
      ]
     },
     "metadata": {
      "needs_background": "light"
     },
     "output_type": "display_data"
    }
   ],
   "source": [
    "#Creating histogram of each feature to check if they are of normal distribution\n",
    "data.hist(figsize=(20, 10), bins = 20)"
   ]
  },
  {
   "cell_type": "code",
   "execution_count": 487,
   "metadata": {},
   "outputs": [
    {
     "data": {
      "text/plain": [
       "<AxesSubplot:>"
      ]
     },
     "execution_count": 487,
     "metadata": {},
     "output_type": "execute_result"
    },
    {
     "data": {
      "image/png": "[encoded data removed]",
      "text/plain": [
       "<Figure size 432x288 with 1 Axes>"
      ]
     },
     "metadata": {
      "needs_background": "light"
     },
     "output_type": "display_data"
    }
   ],
   "source": [
    "#From the histogram above, it seems that feature 'Income (USD)' has outliers.\n",
    "data.boxplot(['Income (USD)'])"
   ]
  },
  {
   "cell_type": "code",
   "execution_count": 488,
   "metadata": {},
   "outputs": [
    {
     "data": {
      "text/plain": [
       "count   47253.000000\n",
       "mean        0.000000\n",
       "std         1.000000\n",
       "min        -1.421256\n",
       "25%        -0.598846\n",
       "50%        -0.218956\n",
       "75%         0.348014\n",
       "max        33.432238\n",
       "Name: Z_score, dtype: float64"
      ]
     },
     "execution_count": 488,
     "metadata": {},
     "output_type": "execute_result"
    }
   ],
   "source": [
    "#Removing outliers by calculting Z-score for each value of the \"Income (USD)\" column\n",
    "#Using describe() to see what is the maximum deviation that a data point is away\n",
    "data[\"Z_score\"] = (data['Income (USD)'] - data['Income (USD)'].mean()) / data['Income (USD)'].std()\n",
    "data['Z_score'].describe()"
   ]
  },
  {
   "cell_type": "code",
   "execution_count": 489,
   "metadata": {},
   "outputs": [
    {
     "data": {
      "text/plain": [
       "count   44758.000000\n",
       "mean        0.025057\n",
       "std         0.822070\n",
       "min        -0.999927\n",
       "25%        -0.550578\n",
       "50%        -0.172123\n",
       "75%         0.368762\n",
       "max         4.993642\n",
       "Name: Z_score, dtype: float64"
      ]
     },
     "execution_count": 489,
     "metadata": {},
     "output_type": "execute_result"
    }
   ],
   "source": [
    "#From my instinct\n",
    "#Values which are kept are within the range (-1; 5)\n",
    "data_new = data[(data['Z_score'] < 5) & (data['Z_score'] > -1)]\n",
    "data_new[\"Z_score\"].describe()"
   ]
  },
  {
   "cell_type": "code",
   "execution_count": 490,
   "metadata": {},
   "outputs": [
    {
     "name": "stderr",
     "output_type": "stream",
     "text": [
      "C:\\Users\\thoma\\AppData\\Local\\Temp\\ipykernel_20756\\2152841586.py:1: SettingWithCopyWarning: \n",
      "A value is trying to be set on a copy of a slice from a DataFrame\n",
      "\n",
      "See the caveats in the documentation: https://pandas.pydata.org/pandas-docs/stable/user_guide/indexing.html#returning-a-view-versus-a-copy\n",
      "  data_new.drop(columns = ['Z_score'], inplace = True)\n"
     ]
    }
   ],
   "source": [
    "#Drop 'Z_score' to make it won't affect much the whole data in the training\n",
    "data_new.drop(columns = ['Z_score'], inplace = True)"
   ]
  },
  {
   "cell_type": "code",
   "execution_count": 491,
   "metadata": {},
   "outputs": [],
   "source": [
    "# Pre-process data, determine feature x and label y\n",
    "columns = data_new.columns.tolist()                            # Get column names.\n",
    "columns.remove('Loan Sanction Amount (USD)')                   # Remove 'Loan Sanction Amount (USD)' (label y column)  \n",
    "feature_data = data_new[columns]                               # Assign a variable to features x, including all columns except 'Loan Sanction Amount (USD)'\n",
    "target_data = data_new['Loan Sanction Amount (USD)']           # Assign 'Loan Sanction Amount (USD)' to label y\n",
    "\n",
    "from sklearn.model_selection import train_test_split\n",
    "trainX, testX, trainY,testY = train_test_split(feature_data, target_data, train_size=0.70, random_state=2603)"
   ]
  },
  {
   "cell_type": "code",
   "execution_count": 492,
   "metadata": {},
   "outputs": [
    {
     "name": "stdout",
     "output_type": "stream",
     "text": [
      "Training:(31330, 8)\n",
      "Test:(13428, 8)\n",
      "(31330,)\n",
      "(13428,)\n"
     ]
    }
   ],
   "source": [
    "print('Training:' + str(trainX.shape))     # Count data samples in Training set.\n",
    "print('Test:' + str(testX.shape))          # Count data samples in Test set.\n",
    "print(trainY.shape)\n",
    "print(testY.shape)"
   ]
  },
  {
   "cell_type": "code",
   "execution_count": 493,
   "metadata": {},
   "outputs": [
    {
     "name": "stdout",
     "output_type": "stream",
     "text": [
      "<class 'pandas.core.frame.DataFrame'>\n",
      "Int64Index: 31330 entries, 38205 to 15405\n",
      "Data columns (total 8 columns):\n",
      " #   Column                        Non-Null Count  Dtype  \n",
      "---  ------                        --------------  -----  \n",
      " 0   Gender                        31330 non-null  int32  \n",
      " 1   Age                           31330 non-null  int64  \n",
      " 2   Income (USD)                  31330 non-null  float64\n",
      " 3   Income Stability              31330 non-null  int32  \n",
      " 4   Property Price                31330 non-null  float64\n",
      " 5   Property Location_Rural       31330 non-null  uint8  \n",
      " 6   Property Location_Semi-Urban  31330 non-null  uint8  \n",
      " 7   Property Location_Urban       31330 non-null  uint8  \n",
      "dtypes: float64(2), int32(2), int64(1), uint8(3)\n",
      "memory usage: 1.3 MB\n"
     ]
    }
   ],
   "source": [
    "trainX.info()"
   ]
  },
  {
   "cell_type": "code",
   "execution_count": 494,
   "metadata": {},
   "outputs": [
    {
     "name": "stdout",
     "output_type": "stream",
     "text": [
      "<class 'pandas.core.frame.DataFrame'>\n",
      "Int64Index: 13428 entries, 17086 to 14706\n",
      "Data columns (total 8 columns):\n",
      " #   Column                        Non-Null Count  Dtype  \n",
      "---  ------                        --------------  -----  \n",
      " 0   Gender                        13428 non-null  int32  \n",
      " 1   Age                           13428 non-null  int64  \n",
      " 2   Income (USD)                  13428 non-null  float64\n",
      " 3   Income Stability              13428 non-null  int32  \n",
      " 4   Property Price                13428 non-null  float64\n",
      " 5   Property Location_Rural       13428 non-null  uint8  \n",
      " 6   Property Location_Semi-Urban  13428 non-null  uint8  \n",
      " 7   Property Location_Urban       13428 non-null  uint8  \n",
      "dtypes: float64(2), int32(2), int64(1), uint8(3)\n",
      "memory usage: 563.9 KB\n"
     ]
    }
   ],
   "source": [
    "testX.info()"
   ]
  },
  {
   "cell_type": "code",
   "execution_count": 495,
   "metadata": {},
   "outputs": [],
   "source": [
    "#Filling missing values in the \"Income (USD)\" column using Imputer\n",
    "#Imputer fills the missing values by calculating the mean of the training set and then assign it to both training and testing sets.\n",
    "#We use fit_transform on the train data to learn the parameters of the scaling on it and at the same time we scale the train data\n",
    "#We use only transform on the test data to scale it using the learned parameters on the train data\n",
    "from sklearn.impute import SimpleImputer\n",
    "\n",
    "mean_imputer = SimpleImputer(strategy = 'mean')\n",
    "\n",
    "trainX['Income (USD)'] = mean_imputer.fit_transform(trainX[\"Income (USD)\"].to_frame())\n",
    "testX['Income (USD)'] = mean_imputer.transform(testX[\"Income (USD)\"].to_frame())"
   ]
  },
  {
   "cell_type": "code",
   "execution_count": 496,
   "metadata": {},
   "outputs": [],
   "source": [
    "#The categorical data need not be standardized. Rather, it is the numerical data that needs it.\n",
    "#Numerical data is: Age, Income (USD), Property Price\n",
    "from sklearn.preprocessing import StandardScaler\n",
    "\n",
    "cols = ['Age', 'Income (USD)', 'Property Price']\n",
    "stdz = StandardScaler()\n",
    "\n",
    "trainX[cols] = stdz.fit_transform(trainX[cols])\n",
    "testX[cols] = stdz.transform(testX[cols])"
   ]
  },
  {
   "cell_type": "code",
   "execution_count": 497,
   "metadata": {},
   "outputs": [
    {
     "data": {
      "text/plain": [
       "138.78745766343263"
      ]
     },
     "execution_count": 497,
     "metadata": {},
     "output_type": "execute_result"
    }
   ],
   "source": [
    "from sklearn.linear_model import LinearRegression\n",
    "\n",
    "model = LinearRegression() \n",
    "\n",
    "model.fit(trainX,trainY)\n",
    "\n",
    "from sklearn.metrics import mean_absolute_error\n",
    "\n",
    "pred = model.predict(testX)                                              # Make prediction on the whole Test set.\n",
    "mean_absolute_error(y_pred=pred, y_true=testY)                           # Calculate mean absolute error to observe the performance of the learned model based on the predictions and the labels."
   ]
  }
 ],
 "metadata": {
  "colab": {
   "authorship_tag": "ABX9TyPVFi4XB/WnkqYK53nNehCr",
   "collapsed_sections": [],
   "mount_file_id": "1CEFiJUHarMxMFtKqrGaMaOTLggNRY-GW",
   "name": "Bài tập về nhà",
   "provenance": []
  },
  "kernelspec": {
   "display_name": "Python 3.10.4 64-bit (windows store)",
   "language": "python",
   "name": "python3"
  },
  "language_info": {
   "codemirror_mode": {
    "name": "ipython",
    "version": 3
   },
   "file_extension": ".py",
   "mimetype": "text/x-python",
   "name": "python",
   "nbconvert_exporter": "python",
   "pygments_lexer": "ipython3",
   "version": "3.10.4"
  },
  "vscode": {
   "interpreter": {
    "hash": "c6d88fc2d417d38d3c6e30f264416dce9d9aae60518bf6daf57927d698a3ada2"
   }
  }
 },
 "nbformat": 4,
 "nbformat_minor": 4
}
